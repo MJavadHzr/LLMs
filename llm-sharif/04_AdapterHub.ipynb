{
  "cells": [
    {
      "cell_type": "markdown",
      "id": "c40cda79-4c99-40fa-9b96-2b620fe773d7",
      "metadata": {
        "id": "c40cda79-4c99-40fa-9b96-2b620fe773d7"
      },
      "source": [
        "# Homework 1 Part 4\n",
        "\n",
        "## Course Name: Large Language Models\n",
        "#### Lecturers: Dr. Soleimani, Dr. Rohban, Dr. Asgari\n",
        "\n",
        "---\n",
        "\n",
        "#### Notebooks Supervised By: MohammadAli SadraeiJavaheri\n",
        "#### Notebooks Prepared By: Zeinab Sadat Taghavi, Hamed Jamshidian, Seyed Mohammad Reza Modarres\n",
        "\n",
        "**Contact**: Ask your questions in Quera\n",
        "\n",
        "---\n",
        "\n",
        "### Instructions:\n",
        "- Complete all exercises presented in this notebook.\n",
        "- Ensure you run each cell after you've entered your solution.\n",
        "- After completing the exercises, save the notebook and <font color='red'>follow the submission guidelines provided in the PDF.</font>\n",
        "\n",
        "\n",
        "---\n",
        "\n",
        "**Note**: Replace the placeholders (between `## Your code begins ##` and `## Your code ends ##`) with the appropriate details.\n"
      ]
    },
    {
      "cell_type": "markdown",
      "id": "60c4a763-16ee-4bd7-bac1-390f9533beb7",
      "metadata": {
        "id": "60c4a763-16ee-4bd7-bac1-390f9533beb7"
      },
      "source": [
        "## Introduction"
      ]
    },
    {
      "cell_type": "markdown",
      "id": "96baa14b-231d-4ada-ae4d-4d3cb2e674cf",
      "metadata": {
        "id": "96baa14b-231d-4ada-ae4d-4d3cb2e674cf"
      },
      "source": [
        "In this notebook you have to use [Adapter Hub](https://docs.adapterhub.ml/overview.html) to define and train your adapters."
      ]
    },
    {
      "cell_type": "markdown",
      "id": "b0733918-1acf-4c3f-9c82-cee8f526e6cd",
      "metadata": {
        "id": "b0733918-1acf-4c3f-9c82-cee8f526e6cd",
        "tags": []
      },
      "source": [
        "### Requirements"
      ]
    },
    {
      "cell_type": "code",
      "execution_count": 1,
      "id": "a4b1be86-aee6-4617-a498-78a87d92736b",
      "metadata": {
        "id": "a4b1be86-aee6-4617-a498-78a87d92736b"
      },
      "outputs": [],
      "source": [
        "%%capture\n",
        "! pip install datasets adapter-transformers"
      ]
    },
    {
      "cell_type": "markdown",
      "id": "16ae46b0-18a3-40d0-9883-431a8000373d",
      "metadata": {
        "id": "16ae46b0-18a3-40d0-9883-431a8000373d"
      },
      "source": [
        "### Imports"
      ]
    },
    {
      "cell_type": "code",
      "execution_count": 2,
      "id": "aa8be324-cd04-4c0f-9d96-084dde0dcc19",
      "metadata": {
        "id": "aa8be324-cd04-4c0f-9d96-084dde0dcc19",
        "tags": []
      },
      "outputs": [],
      "source": [
        "from tqdm.notebook import tqdm\n",
        "from IPython import display\n",
        "\n",
        "import numpy as np\n",
        "import pandas as pd\n",
        "import math\n",
        "\n",
        "from sklearn.metrics import accuracy_score\n",
        "\n",
        "import torch\n",
        "import torch.nn as nn\n",
        "\n",
        "from datasets import load_dataset\n",
        "from transformers import T5TokenizerFast, T5ForConditionalGeneration, DataCollatorForSeq2Seq\n",
        "from transformers.models.t5.modeling_t5 import T5LayerFF"
      ]
    },
    {
      "cell_type": "markdown",
      "id": "a1eb4eff-db9a-4124-a004-a5eaf8e16aac",
      "metadata": {
        "id": "a1eb4eff-db9a-4124-a004-a5eaf8e16aac"
      },
      "source": [
        "### Constants"
      ]
    },
    {
      "cell_type": "markdown",
      "id": "fe9897e3-7bc1-408b-95f8-9d338d46d504",
      "metadata": {
        "id": "fe9897e3-7bc1-408b-95f8-9d338d46d504"
      },
      "source": [
        "We will use `t5-small` as our base model from Hugging Face ([HF_Link](https://huggingface.co/t5-small)). And we use `32` as our adapter bottleneck size."
      ]
    },
    {
      "cell_type": "code",
      "execution_count": 3,
      "id": "46665990-e882-45a4-afae-f8e3b9335e3d",
      "metadata": {
        "id": "46665990-e882-45a4-afae-f8e3b9335e3d",
        "tags": []
      },
      "outputs": [],
      "source": [
        "#####################################\n",
        "###### DO NOT CHANGE THIS CELL ######\n",
        "#####################################\n",
        "\n",
        "BASE_MODEL_NAME = 't5-small'\n",
        "\n",
        "BATCH_SIZE = 32\n",
        "LEARNING_RATE = 1e-4\n",
        "EPOCHS = 10\n",
        "\n",
        "DEVICE = torch.device(\"cuda:0\" if torch.cuda.is_available() else \"cpu\")"
      ]
    },
    {
      "cell_type": "markdown",
      "id": "ed0d5179-66f2-4cd7-800c-c6350f41adc2",
      "metadata": {
        "id": "ed0d5179-66f2-4cd7-800c-c6350f41adc2"
      },
      "source": [
        "## Dataset"
      ]
    },
    {
      "cell_type": "markdown",
      "id": "2255bd76-e287-4f3a-9e1e-0f0deb45da80",
      "metadata": {
        "id": "2255bd76-e287-4f3a-9e1e-0f0deb45da80"
      },
      "source": [
        "### Load dataset"
      ]
    },
    {
      "cell_type": "markdown",
      "id": "cfb1f051-d292-478a-9188-dc0f95b4d690",
      "metadata": {
        "id": "cfb1f051-d292-478a-9188-dc0f95b4d690"
      },
      "source": [
        "`imdb` dataset is a famouns NLP sentiment dataset. Each row of data is either `negative` or `positive`."
      ]
    },
    {
      "cell_type": "code",
      "execution_count": 4,
      "id": "e6d7cd82-ef6a-43b1-a1f1-9ec8ce79ec46",
      "metadata": {
        "colab": {
          "base_uri": "https://localhost:8080/"
        },
        "id": "e6d7cd82-ef6a-43b1-a1f1-9ec8ce79ec46",
        "outputId": "782a7ff1-b4f1-4f2a-ca30-569ce9766efd",
        "tags": []
      },
      "outputs": [
        {
          "output_type": "stream",
          "name": "stderr",
          "text": [
            "/usr/local/lib/python3.10/dist-packages/huggingface_hub/utils/_auth.py:94: UserWarning: \n",
            "The secret `HF_TOKEN` does not exist in your Colab secrets.\n",
            "To authenticate with the Hugging Face Hub, create a token in your settings tab (https://huggingface.co/settings/tokens), set it as secret in your Google Colab and restart your session.\n",
            "You will be able to reuse this secret in all of your notebooks.\n",
            "Please note that authentication is recommended but still optional to access public models or datasets.\n",
            "  warnings.warn(\n"
          ]
        },
        {
          "output_type": "stream",
          "name": "stdout",
          "text": [
            "DatasetDict({\n",
            "    train: Dataset({\n",
            "        features: ['text', 'label'],\n",
            "        num_rows: 25000\n",
            "    })\n",
            "    test: Dataset({\n",
            "        features: ['text', 'label'],\n",
            "        num_rows: 25000\n",
            "    })\n",
            "})\n"
          ]
        }
      ],
      "source": [
        "dataset = load_dataset('imdb')\n",
        "dataset.pop('unsupervised')\n",
        "print(dataset)"
      ]
    },
    {
      "cell_type": "markdown",
      "id": "9c04dc8f-bad7-45c9-9320-b9adc3da692f",
      "metadata": {
        "id": "9c04dc8f-bad7-45c9-9320-b9adc3da692f"
      },
      "source": [
        "### Define related functions"
      ]
    },
    {
      "cell_type": "markdown",
      "id": "9c17166d-0982-4217-971a-25626fd49f32",
      "metadata": {
        "id": "9c17166d-0982-4217-971a-25626fd49f32"
      },
      "source": [
        "Because `T5` model is a sequence to sequence model we should map our labels to label_names before training and doing vice versa duing calculating metrics.\n",
        "\n",
        "The functions `id2label` and `label2id` are defined to do this."
      ]
    },
    {
      "cell_type": "code",
      "execution_count": 5,
      "id": "5a77aebd-a216-4daf-bebf-2401b75ada81",
      "metadata": {
        "id": "5a77aebd-a216-4daf-bebf-2401b75ada81",
        "tags": []
      },
      "outputs": [],
      "source": [
        "def id2label(ids):\n",
        "    label_names = ['negative', 'positive']\n",
        "    return [label_names[id] for id in ids]\n",
        "\n",
        "def label2id(labels):\n",
        "    label_names_dict = {\n",
        "        'negative': 0,\n",
        "        'positive': 1\n",
        "    }\n",
        "    return [\n",
        "        label_names_dict.get(label, 2)\n",
        "        for label in labels\n",
        "    ]"
      ]
    },
    {
      "cell_type": "markdown",
      "id": "156641f9-3c1d-4e96-b194-b356c7d38f22",
      "metadata": {
        "id": "156641f9-3c1d-4e96-b194-b356c7d38f22"
      },
      "source": [
        "# Tokenizer"
      ]
    },
    {
      "cell_type": "markdown",
      "id": "a2b3918f-a46c-4637-8eb9-bf2bb7808c41",
      "metadata": {
        "id": "a2b3918f-a46c-4637-8eb9-bf2bb7808c41"
      },
      "source": [
        "### Load tokenizer"
      ]
    },
    {
      "cell_type": "code",
      "execution_count": 6,
      "id": "738b49f3-e646-4957-b5a7-84b48f59f27d",
      "metadata": {
        "id": "738b49f3-e646-4957-b5a7-84b48f59f27d",
        "tags": []
      },
      "outputs": [],
      "source": [
        "tokenizer = T5TokenizerFast.from_pretrained(BASE_MODEL_NAME)"
      ]
    },
    {
      "cell_type": "markdown",
      "id": "228a6953-3248-4736-8b3b-155b64af2cc3",
      "metadata": {
        "id": "228a6953-3248-4736-8b3b-155b64af2cc3"
      },
      "source": [
        "### Process dataset using tokenizer"
      ]
    },
    {
      "cell_type": "markdown",
      "id": "859ffc49-adbe-4ab8-a8ec-ba278ec504f9",
      "metadata": {
        "id": "859ffc49-adbe-4ab8-a8ec-ba278ec504f9"
      },
      "source": [
        "In this step we will getting our dataset ready for training.\n",
        "\n",
        "We preprocess tokenize our `text` and `label`."
      ]
    },
    {
      "cell_type": "code",
      "execution_count": 7,
      "id": "40b7cb3f-08f6-4a05-8cc5-542076798680",
      "metadata": {
        "id": "40b7cb3f-08f6-4a05-8cc5-542076798680",
        "tags": []
      },
      "outputs": [],
      "source": [
        "def preprocess_input(text):\n",
        "    text = text.lower()\n",
        "    text = text.replace('<br />', ' ')\n",
        "    return text\n",
        "\n",
        "def map_function(row):\n",
        "    processed_input = [\n",
        "        preprocess_input(text)\n",
        "        for text in row['text']\n",
        "    ]\n",
        "    input_info = tokenizer(processed_input, truncation=True, max_length=256)\n",
        "    output_info = tokenizer(id2label(row['label']))\n",
        "    return {\n",
        "        **input_info,\n",
        "        'labels': output_info.input_ids\n",
        "    }\n",
        "\n",
        "\n",
        "dataset = dataset.map(map_function, batched=True)\n",
        "dataset.set_format(type='torch', columns=['input_ids', 'attention_mask', 'labels'])"
      ]
    },
    {
      "cell_type": "markdown",
      "id": "80f8ad0e-2929-4899-8b84-ea643180784e",
      "metadata": {
        "id": "80f8ad0e-2929-4899-8b84-ea643180784e"
      },
      "source": [
        "# Model"
      ]
    },
    {
      "cell_type": "markdown",
      "id": "271a15b4-67b7-4011-8163-8afcf43418bf",
      "metadata": {
        "id": "271a15b4-67b7-4011-8163-8afcf43418bf"
      },
      "source": [
        "### Load model and create adapter"
      ]
    },
    {
      "cell_type": "markdown",
      "id": "93acab49-8095-4fa3-84b4-159ae755e1b4",
      "metadata": {
        "id": "93acab49-8095-4fa3-84b4-159ae755e1b4"
      },
      "source": [
        "In next part create `PfeifferConfig` by considering `BOTTLENECK_SIZE`.\n",
        "\n",
        "Complete the next cell using methods of `train_adapter` and `add_adapter`.\n",
        "\n",
        "Report final test data performance.s\n",
        "\n",
        "Read [this page](https://docs.adapterhub.ml/training.html) for more information."
      ]
    },
    {
      "cell_type": "code",
      "execution_count": 8,
      "id": "ecd0b81c-1f4b-46cb-8850-55b31f45d224",
      "metadata": {
        "id": "ecd0b81c-1f4b-46cb-8850-55b31f45d224",
        "tags": []
      },
      "outputs": [],
      "source": [
        "# from transformers import PfeifferConfig /// (has been moved to a stand alone package)\n",
        "import adapters\n",
        "from adapters import SeqBnConfig\n",
        "\n",
        "BOTTLENECK_SIZE = 8\n",
        "HIDDEN_SIZE = 512\n",
        "\n",
        "model = T5ForConditionalGeneration.from_pretrained(BASE_MODEL_NAME)\n",
        "######### Your code begins #########\n",
        "####################################\n",
        "####################################\n",
        "adapters.init(model)\n",
        "config = SeqBnConfig(mh_adapter=False, output_adapter=True, reduction_factor=HIDDEN_SIZE/BOTTLENECK_SIZE, non_linearity='relu')\n",
        "model.add_adapter('sharif_llm', config=config)\n",
        "model.train_adapter(\"sharif_llm\")"
      ]
    },
    {
      "cell_type": "markdown",
      "id": "0db6552d-c463-4cc7-b818-c627be489481",
      "metadata": {
        "id": "0db6552d-c463-4cc7-b818-c627be489481"
      },
      "source": [
        "# Train and evaluate"
      ]
    },
    {
      "cell_type": "markdown",
      "source": [
        "### Train"
      ],
      "metadata": {
        "id": "Cbtjr5LTgLp5"
      },
      "id": "Cbtjr5LTgLp5"
    },
    {
      "cell_type": "markdown",
      "id": "32da8cf6-6a0c-4d24-a62f-3c5b24d9596b",
      "metadata": {
        "id": "32da8cf6-6a0c-4d24-a62f-3c5b24d9596b"
      },
      "source": [
        "Complete next part to train your peft using `AdapterTrainer`."
      ]
    },
    {
      "cell_type": "code",
      "execution_count": 9,
      "id": "3c642c72-ca71-4191-86bc-aac8cae2510a",
      "metadata": {
        "id": "3c642c72-ca71-4191-86bc-aac8cae2510a",
        "tags": [],
        "colab": {
          "base_uri": "https://localhost:8080/",
          "height": 478
        },
        "outputId": "d0fa6441-0278-457c-de25-01d7cbc4b49e"
      },
      "outputs": [
        {
          "output_type": "stream",
          "name": "stderr",
          "text": [
            "/usr/local/lib/python3.10/dist-packages/transformers/data/data_collator.py:656: UserWarning: Creating a tensor from a list of numpy.ndarrays is extremely slow. Please consider converting the list to a single numpy.ndarray with numpy.array() before converting to a tensor. (Triggered internally at ../torch/csrc/utils/tensor_new.cpp:278.)\n",
            "  batch[\"labels\"] = torch.tensor(batch[\"labels\"], dtype=torch.int64)\n"
          ]
        },
        {
          "output_type": "display_data",
          "data": {
            "text/plain": [
              "<IPython.core.display.HTML object>"
            ],
            "text/html": [
              "\n",
              "    <div>\n",
              "      \n",
              "      <progress value='7820' max='7820' style='width:300px; height:20px; vertical-align: middle;'></progress>\n",
              "      [7820/7820 58:15, Epoch 10/10]\n",
              "    </div>\n",
              "    <table border=\"1\" class=\"dataframe\">\n",
              "  <thead>\n",
              " <tr style=\"text-align: left;\">\n",
              "      <th>Epoch</th>\n",
              "      <th>Training Loss</th>\n",
              "      <th>Validation Loss</th>\n",
              "    </tr>\n",
              "  </thead>\n",
              "  <tbody>\n",
              "    <tr>\n",
              "      <td>1</td>\n",
              "      <td>0.661300</td>\n",
              "      <td>0.141083</td>\n",
              "    </tr>\n",
              "    <tr>\n",
              "      <td>2</td>\n",
              "      <td>0.152900</td>\n",
              "      <td>0.136690</td>\n",
              "    </tr>\n",
              "    <tr>\n",
              "      <td>3</td>\n",
              "      <td>0.144400</td>\n",
              "      <td>0.132570</td>\n",
              "    </tr>\n",
              "    <tr>\n",
              "      <td>4</td>\n",
              "      <td>0.139200</td>\n",
              "      <td>0.125679</td>\n",
              "    </tr>\n",
              "    <tr>\n",
              "      <td>5</td>\n",
              "      <td>0.135300</td>\n",
              "      <td>0.123938</td>\n",
              "    </tr>\n",
              "    <tr>\n",
              "      <td>6</td>\n",
              "      <td>0.133300</td>\n",
              "      <td>0.123896</td>\n",
              "    </tr>\n",
              "    <tr>\n",
              "      <td>7</td>\n",
              "      <td>0.132600</td>\n",
              "      <td>0.122475</td>\n",
              "    </tr>\n",
              "    <tr>\n",
              "      <td>8</td>\n",
              "      <td>0.128500</td>\n",
              "      <td>0.121550</td>\n",
              "    </tr>\n",
              "    <tr>\n",
              "      <td>9</td>\n",
              "      <td>0.127600</td>\n",
              "      <td>0.121606</td>\n",
              "    </tr>\n",
              "    <tr>\n",
              "      <td>10</td>\n",
              "      <td>0.126500</td>\n",
              "      <td>0.121724</td>\n",
              "    </tr>\n",
              "  </tbody>\n",
              "</table><p>"
            ]
          },
          "metadata": {}
        },
        {
          "output_type": "execute_result",
          "data": {
            "text/plain": [
              "TrainOutput(global_step=7820, training_loss=0.18816959449397327, metrics={'train_runtime': 3499.4669, 'train_samples_per_second': 71.439, 'train_steps_per_second': 2.235, 'total_flos': 1.695787008e+16, 'train_loss': 0.18816959449397327, 'epoch': 10.0})"
            ]
          },
          "metadata": {},
          "execution_count": 9
        }
      ],
      "source": [
        "from transformers import TrainingArguments\n",
        "from adapters import AdapterTrainer\n",
        "\n",
        "\n",
        "col_fn = DataCollatorForSeq2Seq(\n",
        "    tokenizer, return_tensors='pt', padding='longest',\n",
        ")\n",
        "\n",
        "training_args = TrainingArguments(\n",
        "    './temp',\n",
        "    learning_rate=LEARNING_RATE,\n",
        "    num_train_epochs=EPOCHS,\n",
        "    logging_strategy='epoch',\n",
        "    eval_strategy='epoch',\n",
        "    save_strategy='no',\n",
        "    per_device_train_batch_size=BATCH_SIZE,\n",
        "    per_device_eval_batch_size=BATCH_SIZE,\n",
        "    eval_accumulation_steps=16,\n",
        "    report_to='none'\n",
        ")\n",
        "\n",
        "######### Your code begins #########\n",
        "####################################\n",
        "####################################\n",
        "trainer = AdapterTrainer(\n",
        "    model=model,\n",
        "    args=training_args,\n",
        "    train_dataset=dataset['train'],\n",
        "    eval_dataset=dataset['test'],\n",
        "    tokenizer=tokenizer,\n",
        "    data_collator=col_fn\n",
        "    # compute_metrics=accuracy_score\n",
        ")\n",
        "\n",
        "trainer.train()"
      ]
    },
    {
      "cell_type": "markdown",
      "source": [
        "### Evaluate"
      ],
      "metadata": {
        "id": "lwj52MOpgNsW"
      },
      "id": "lwj52MOpgNsW"
    },
    {
      "cell_type": "code",
      "source": [
        "def _predict(model, row):\n",
        "    return model.generate(\n",
        "        input_ids=row.input_ids,\n",
        "        attention_mask=row.attention_mask,\n",
        "        max_length=5\n",
        "    )\n",
        "\n",
        "def tokenizer_ids_to_label(all_input_ids):\n",
        "    return tokenizer.batch_decode(all_input_ids, skip_special_tokens=True)\n",
        "\n",
        "def valid_loop(model, loader, compute_metrics):\n",
        "    model.eval()\n",
        "\n",
        "    all_true = []\n",
        "    all_pred = []\n",
        "\n",
        "    with torch.no_grad():\n",
        "        for row in tqdm(loader, desc='Validating:'):\n",
        "            row.to(model.device)\n",
        "            pred = _predict(model, row)\n",
        "\n",
        "            all_true += row.labels.detach().cpu().tolist()\n",
        "            all_pred += pred.detach().cpu().tolist()\n",
        "\n",
        "    all_true = label2id(tokenizer_ids_to_label(all_true))\n",
        "    all_pred = label2id(tokenizer_ids_to_label(all_pred))\n",
        "\n",
        "    return {'valid_acc': compute_metrics(y_true=all_true, y_pred=all_pred)}\n",
        "\n",
        "\n",
        "test_loader = torch.utils.data.DataLoader(\n",
        "    dataset['test'],\n",
        "    batch_size=BATCH_SIZE,\n",
        "    collate_fn=col_fn,\n",
        "    shuffle=True\n",
        ")"
      ],
      "metadata": {
        "id": "Eeu58bHZLG-i"
      },
      "id": "Eeu58bHZLG-i",
      "execution_count": 10,
      "outputs": []
    },
    {
      "cell_type": "code",
      "source": [
        "# trainer.evaluate()\n",
        "\n",
        "valid_loop(model, test_loader, compute_metrics=accuracy_score)"
      ],
      "metadata": {
        "colab": {
          "base_uri": "https://localhost:8080/",
          "height": 66,
          "referenced_widgets": [
            "ab2b8cd4ccb7469e976b4f9ff79dabb0",
            "4a15fc358ad84add961064df0145707c",
            "8525aaf9365f4b4991fe845ddf994ad6",
            "691b277f03a0404c903009c856681fd5",
            "172af6c796a94ab49283a6d6c7939966",
            "507817ffc8fe4978a9cf64faaa0480c1",
            "f879423f91dd424aa66fc1e8a8b69e7e",
            "759fa2056a00461f824a161d34a095d7",
            "18f3ce036e4e4b6f9af78b97d796fdd5",
            "2c077935a4e2468a9ae5192ce0d6662b",
            "4c29cf7a053248fbb6fbe4bc519456dd"
          ]
        },
        "id": "J9qEoHSngBQH",
        "outputId": "d81e9760-f305-463a-ac0b-ce641e1e04dc"
      },
      "id": "J9qEoHSngBQH",
      "execution_count": 11,
      "outputs": [
        {
          "output_type": "display_data",
          "data": {
            "text/plain": [
              "Validating::   0%|          | 0/782 [00:00<?, ?it/s]"
            ],
            "application/vnd.jupyter.widget-view+json": {
              "version_major": 2,
              "version_minor": 0,
              "model_id": "ab2b8cd4ccb7469e976b4f9ff79dabb0"
            }
          },
          "metadata": {}
        },
        {
          "output_type": "execute_result",
          "data": {
            "text/plain": [
              "{'valid_acc': 0.9014}"
            ]
          },
          "metadata": {},
          "execution_count": 11
        }
      ]
    },
    {
      "cell_type": "markdown",
      "id": "70eaef04-18da-40d1-8fde-0d42bb90a075",
      "metadata": {
        "id": "70eaef04-18da-40d1-8fde-0d42bb90a075"
      },
      "source": [
        "# Bottleneck effect"
      ]
    },
    {
      "cell_type": "markdown",
      "id": "520b0061-300a-43e5-8e08-2b9df8ad8a78",
      "metadata": {
        "id": "520b0061-300a-43e5-8e08-2b9df8ad8a78"
      },
      "source": [
        "Check the model performance with `BOTTLENECK_SIZE = 1` and report the number."
      ]
    },
    {
      "cell_type": "code",
      "execution_count": null,
      "id": "16d60836-8f51-4bc0-a7bb-ec263e6327e6",
      "metadata": {
        "id": "16d60836-8f51-4bc0-a7bb-ec263e6327e6"
      },
      "outputs": [],
      "source": [
        "from transformers import PfeifferConfig\n",
        "\n",
        "BOTTLENECK_SIZE = 1\n",
        "\n",
        "model = T5ForConditionalGeneration.from_pretrained(BASE_MODEL_NAME)\n",
        "\n",
        "######### Your code begins #########\n",
        "####################################\n",
        "####################################"
      ]
    }
  ],
  "metadata": {
    "accelerator": "GPU",
    "colab": {
      "provenance": []
    },
    "kernelspec": {
      "display_name": "Python [conda env:adapterhub]",
      "language": "python",
      "name": "conda-env-adapterhub-py"
    },
    "language_info": {
      "codemirror_mode": {
        "name": "ipython",
        "version": 3
      },
      "file_extension": ".py",
      "mimetype": "text/x-python",
      "name": "python",
      "nbconvert_exporter": "python",
      "pygments_lexer": "ipython3",
      "version": "3.10.13"
    },
    "widgets": {
      "application/vnd.jupyter.widget-state+json": {
        "ab2b8cd4ccb7469e976b4f9ff79dabb0": {
          "model_module": "@jupyter-widgets/controls",
          "model_name": "HBoxModel",
          "model_module_version": "1.5.0",
          "state": {
            "_dom_classes": [],
            "_model_module": "@jupyter-widgets/controls",
            "_model_module_version": "1.5.0",
            "_model_name": "HBoxModel",
            "_view_count": null,
            "_view_module": "@jupyter-widgets/controls",
            "_view_module_version": "1.5.0",
            "_view_name": "HBoxView",
            "box_style": "",
            "children": [
              "IPY_MODEL_4a15fc358ad84add961064df0145707c",
              "IPY_MODEL_8525aaf9365f4b4991fe845ddf994ad6",
              "IPY_MODEL_691b277f03a0404c903009c856681fd5"
            ],
            "layout": "IPY_MODEL_172af6c796a94ab49283a6d6c7939966"
          }
        },
        "4a15fc358ad84add961064df0145707c": {
          "model_module": "@jupyter-widgets/controls",
          "model_name": "HTMLModel",
          "model_module_version": "1.5.0",
          "state": {
            "_dom_classes": [],
            "_model_module": "@jupyter-widgets/controls",
            "_model_module_version": "1.5.0",
            "_model_name": "HTMLModel",
            "_view_count": null,
            "_view_module": "@jupyter-widgets/controls",
            "_view_module_version": "1.5.0",
            "_view_name": "HTMLView",
            "description": "",
            "description_tooltip": null,
            "layout": "IPY_MODEL_507817ffc8fe4978a9cf64faaa0480c1",
            "placeholder": "​",
            "style": "IPY_MODEL_f879423f91dd424aa66fc1e8a8b69e7e",
            "value": "Validating:: 100%"
          }
        },
        "8525aaf9365f4b4991fe845ddf994ad6": {
          "model_module": "@jupyter-widgets/controls",
          "model_name": "FloatProgressModel",
          "model_module_version": "1.5.0",
          "state": {
            "_dom_classes": [],
            "_model_module": "@jupyter-widgets/controls",
            "_model_module_version": "1.5.0",
            "_model_name": "FloatProgressModel",
            "_view_count": null,
            "_view_module": "@jupyter-widgets/controls",
            "_view_module_version": "1.5.0",
            "_view_name": "ProgressView",
            "bar_style": "success",
            "description": "",
            "description_tooltip": null,
            "layout": "IPY_MODEL_759fa2056a00461f824a161d34a095d7",
            "max": 782,
            "min": 0,
            "orientation": "horizontal",
            "style": "IPY_MODEL_18f3ce036e4e4b6f9af78b97d796fdd5",
            "value": 782
          }
        },
        "691b277f03a0404c903009c856681fd5": {
          "model_module": "@jupyter-widgets/controls",
          "model_name": "HTMLModel",
          "model_module_version": "1.5.0",
          "state": {
            "_dom_classes": [],
            "_model_module": "@jupyter-widgets/controls",
            "_model_module_version": "1.5.0",
            "_model_name": "HTMLModel",
            "_view_count": null,
            "_view_module": "@jupyter-widgets/controls",
            "_view_module_version": "1.5.0",
            "_view_name": "HTMLView",
            "description": "",
            "description_tooltip": null,
            "layout": "IPY_MODEL_2c077935a4e2468a9ae5192ce0d6662b",
            "placeholder": "​",
            "style": "IPY_MODEL_4c29cf7a053248fbb6fbe4bc519456dd",
            "value": " 782/782 [02:09&lt;00:00,  6.13it/s]"
          }
        },
        "172af6c796a94ab49283a6d6c7939966": {
          "model_module": "@jupyter-widgets/base",
          "model_name": "LayoutModel",
          "model_module_version": "1.2.0",
          "state": {
            "_model_module": "@jupyter-widgets/base",
            "_model_module_version": "1.2.0",
            "_model_name": "LayoutModel",
            "_view_count": null,
            "_view_module": "@jupyter-widgets/base",
            "_view_module_version": "1.2.0",
            "_view_name": "LayoutView",
            "align_content": null,
            "align_items": null,
            "align_self": null,
            "border": null,
            "bottom": null,
            "display": null,
            "flex": null,
            "flex_flow": null,
            "grid_area": null,
            "grid_auto_columns": null,
            "grid_auto_flow": null,
            "grid_auto_rows": null,
            "grid_column": null,
            "grid_gap": null,
            "grid_row": null,
            "grid_template_areas": null,
            "grid_template_columns": null,
            "grid_template_rows": null,
            "height": null,
            "justify_content": null,
            "justify_items": null,
            "left": null,
            "margin": null,
            "max_height": null,
            "max_width": null,
            "min_height": null,
            "min_width": null,
            "object_fit": null,
            "object_position": null,
            "order": null,
            "overflow": null,
            "overflow_x": null,
            "overflow_y": null,
            "padding": null,
            "right": null,
            "top": null,
            "visibility": null,
            "width": null
          }
        },
        "507817ffc8fe4978a9cf64faaa0480c1": {
          "model_module": "@jupyter-widgets/base",
          "model_name": "LayoutModel",
          "model_module_version": "1.2.0",
          "state": {
            "_model_module": "@jupyter-widgets/base",
            "_model_module_version": "1.2.0",
            "_model_name": "LayoutModel",
            "_view_count": null,
            "_view_module": "@jupyter-widgets/base",
            "_view_module_version": "1.2.0",
            "_view_name": "LayoutView",
            "align_content": null,
            "align_items": null,
            "align_self": null,
            "border": null,
            "bottom": null,
            "display": null,
            "flex": null,
            "flex_flow": null,
            "grid_area": null,
            "grid_auto_columns": null,
            "grid_auto_flow": null,
            "grid_auto_rows": null,
            "grid_column": null,
            "grid_gap": null,
            "grid_row": null,
            "grid_template_areas": null,
            "grid_template_columns": null,
            "grid_template_rows": null,
            "height": null,
            "justify_content": null,
            "justify_items": null,
            "left": null,
            "margin": null,
            "max_height": null,
            "max_width": null,
            "min_height": null,
            "min_width": null,
            "object_fit": null,
            "object_position": null,
            "order": null,
            "overflow": null,
            "overflow_x": null,
            "overflow_y": null,
            "padding": null,
            "right": null,
            "top": null,
            "visibility": null,
            "width": null
          }
        },
        "f879423f91dd424aa66fc1e8a8b69e7e": {
          "model_module": "@jupyter-widgets/controls",
          "model_name": "DescriptionStyleModel",
          "model_module_version": "1.5.0",
          "state": {
            "_model_module": "@jupyter-widgets/controls",
            "_model_module_version": "1.5.0",
            "_model_name": "DescriptionStyleModel",
            "_view_count": null,
            "_view_module": "@jupyter-widgets/base",
            "_view_module_version": "1.2.0",
            "_view_name": "StyleView",
            "description_width": ""
          }
        },
        "759fa2056a00461f824a161d34a095d7": {
          "model_module": "@jupyter-widgets/base",
          "model_name": "LayoutModel",
          "model_module_version": "1.2.0",
          "state": {
            "_model_module": "@jupyter-widgets/base",
            "_model_module_version": "1.2.0",
            "_model_name": "LayoutModel",
            "_view_count": null,
            "_view_module": "@jupyter-widgets/base",
            "_view_module_version": "1.2.0",
            "_view_name": "LayoutView",
            "align_content": null,
            "align_items": null,
            "align_self": null,
            "border": null,
            "bottom": null,
            "display": null,
            "flex": null,
            "flex_flow": null,
            "grid_area": null,
            "grid_auto_columns": null,
            "grid_auto_flow": null,
            "grid_auto_rows": null,
            "grid_column": null,
            "grid_gap": null,
            "grid_row": null,
            "grid_template_areas": null,
            "grid_template_columns": null,
            "grid_template_rows": null,
            "height": null,
            "justify_content": null,
            "justify_items": null,
            "left": null,
            "margin": null,
            "max_height": null,
            "max_width": null,
            "min_height": null,
            "min_width": null,
            "object_fit": null,
            "object_position": null,
            "order": null,
            "overflow": null,
            "overflow_x": null,
            "overflow_y": null,
            "padding": null,
            "right": null,
            "top": null,
            "visibility": null,
            "width": null
          }
        },
        "18f3ce036e4e4b6f9af78b97d796fdd5": {
          "model_module": "@jupyter-widgets/controls",
          "model_name": "ProgressStyleModel",
          "model_module_version": "1.5.0",
          "state": {
            "_model_module": "@jupyter-widgets/controls",
            "_model_module_version": "1.5.0",
            "_model_name": "ProgressStyleModel",
            "_view_count": null,
            "_view_module": "@jupyter-widgets/base",
            "_view_module_version": "1.2.0",
            "_view_name": "StyleView",
            "bar_color": null,
            "description_width": ""
          }
        },
        "2c077935a4e2468a9ae5192ce0d6662b": {
          "model_module": "@jupyter-widgets/base",
          "model_name": "LayoutModel",
          "model_module_version": "1.2.0",
          "state": {
            "_model_module": "@jupyter-widgets/base",
            "_model_module_version": "1.2.0",
            "_model_name": "LayoutModel",
            "_view_count": null,
            "_view_module": "@jupyter-widgets/base",
            "_view_module_version": "1.2.0",
            "_view_name": "LayoutView",
            "align_content": null,
            "align_items": null,
            "align_self": null,
            "border": null,
            "bottom": null,
            "display": null,
            "flex": null,
            "flex_flow": null,
            "grid_area": null,
            "grid_auto_columns": null,
            "grid_auto_flow": null,
            "grid_auto_rows": null,
            "grid_column": null,
            "grid_gap": null,
            "grid_row": null,
            "grid_template_areas": null,
            "grid_template_columns": null,
            "grid_template_rows": null,
            "height": null,
            "justify_content": null,
            "justify_items": null,
            "left": null,
            "margin": null,
            "max_height": null,
            "max_width": null,
            "min_height": null,
            "min_width": null,
            "object_fit": null,
            "object_position": null,
            "order": null,
            "overflow": null,
            "overflow_x": null,
            "overflow_y": null,
            "padding": null,
            "right": null,
            "top": null,
            "visibility": null,
            "width": null
          }
        },
        "4c29cf7a053248fbb6fbe4bc519456dd": {
          "model_module": "@jupyter-widgets/controls",
          "model_name": "DescriptionStyleModel",
          "model_module_version": "1.5.0",
          "state": {
            "_model_module": "@jupyter-widgets/controls",
            "_model_module_version": "1.5.0",
            "_model_name": "DescriptionStyleModel",
            "_view_count": null,
            "_view_module": "@jupyter-widgets/base",
            "_view_module_version": "1.2.0",
            "_view_name": "StyleView",
            "description_width": ""
          }
        }
      }
    }
  },
  "nbformat": 4,
  "nbformat_minor": 5
}